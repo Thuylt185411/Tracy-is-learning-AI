{
 "cells": [
  {
   "cell_type": "code",
   "id": "initial_id",
   "metadata": {
    "collapsed": true,
    "ExecuteTime": {
     "end_time": "2024-07-21T07:50:26.159400Z",
     "start_time": "2024-07-21T07:50:25.145958Z"
    }
   },
   "source": [
    "import math\n",
    "\n",
    "import numpy as np\n",
    "def compute_vector_length(vector):\n",
    "    sum_square = 0\n",
    "    for i in vector:\n",
    "        sum_square += i**2\n",
    "    return math.sqrt(sum_square)\n",
    "\n",
    "def compute_dot_product(vector1, vector2):\n",
    "    dot_product = 0\n",
    "    for x,y in zip(vector1, vector2):\n",
    "        dot_product += x*y\n",
    "    return dot_product\n",
    "\n",
    "    "
   ],
   "outputs": [],
   "execution_count": 2
  },
  {
   "metadata": {
    "ExecuteTime": {
     "end_time": "2024-07-21T07:51:54.194460Z",
     "start_time": "2024-07-21T07:51:54.177652Z"
    }
   },
   "cell_type": "code",
   "source": [
    "v1 = np.array([0 , 1 , -1 , 2])\n",
    "v2 = np.array([2 , 5 , 1 , 0])\n",
    "\n",
    "print(round(compute_dot_product(v1, v2) ,2) )\n",
    "compute_dot_product(v1, v2)"
   ],
   "id": "128a02ca66c5a9c5",
   "outputs": [
    {
     "name": "stdout",
     "output_type": "stream",
     "text": [
      "4\n"
     ]
    },
    {
     "data": {
      "text/plain": [
       "np.int64(4)"
      ]
     },
     "execution_count": 5,
     "metadata": {},
     "output_type": "execute_result"
    }
   ],
   "execution_count": 5
  },
  {
   "metadata": {
    "ExecuteTime": {
     "end_time": "2024-07-21T07:56:59.879328Z",
     "start_time": "2024-07-21T07:56:59.873477Z"
    }
   },
   "cell_type": "code",
   "source": [
    "def matrix_multi_vector(matrix, vector):\n",
    "    matrix_result = []\n",
    "    for row in matrix:\n",
    "        row_result = compute_dot_product(row, vector)\n",
    "        matrix_result.append(row_result)\n",
    "    return matrix_result"
   ],
   "id": "cebd4db251897754",
   "outputs": [],
   "execution_count": 10
  },
  {
   "metadata": {
    "ExecuteTime": {
     "end_time": "2024-07-21T07:57:30.625064Z",
     "start_time": "2024-07-21T07:57:30.615751Z"
    }
   },
   "cell_type": "code",
   "source": [
    "m = np.array([[ -1 , 1 , 1], [0 , -4 , 9]])\n",
    "v = np.array([0 , 2 , 1])\n",
    "result = matrix_multi_vector(m, v)\n",
    "print(result)"
   ],
   "id": "8416318f2627a086",
   "outputs": [
    {
     "name": "stdout",
     "output_type": "stream",
     "text": [
      "[array([0, 0, 0]), array([ 0, -8, 18])]\n"
     ]
    }
   ],
   "execution_count": 14
  },
  {
   "metadata": {
    "ExecuteTime": {
     "end_time": "2024-07-21T09:12:44.565791Z",
     "start_time": "2024-07-21T09:12:44.542924Z"
    }
   },
   "cell_type": "code",
   "source": [
    "def my_tranpose(matrix):\n",
    "    m = len(matrix)\n",
    "    n = len(matrix[0])\n",
    "    new_matrix = []\n",
    "    for i in range(n):\n",
    "        row = []\n",
    "        for j in range(m):\n",
    "            row.append(matrix[j][i])\n",
    "        new_matrix.append(row)\n",
    "    return new_matrix\n",
    "            \n",
    "m1 = np.array([[0 , 1 , 2] , [2 , -3 , 1]])\n",
    "my_tranpose(m1)"
   ],
   "id": "23eb7e6ecaeafc33",
   "outputs": [
    {
     "data": {
      "text/plain": [
       "[[np.int64(0), np.int64(2)],\n",
       " [np.int64(1), np.int64(-3)],\n",
       " [np.int64(2), np.int64(1)]]"
      ]
     },
     "execution_count": 60,
     "metadata": {},
     "output_type": "execute_result"
    }
   ],
   "execution_count": 60
  },
  {
   "metadata": {
    "ExecuteTime": {
     "end_time": "2024-07-21T09:13:31.117722Z",
     "start_time": "2024-07-21T09:13:31.110795Z"
    }
   },
   "cell_type": "code",
   "source": [
    "def matrix_multi_matrix(matrix1, matrix2):\n",
    "    matrix = []\n",
    "    row = []\n",
    "    matrix2 = my_tranpose(matrix2)\n",
    "    for row1 in matrix1:\n",
    "        for row2 in matrix2:\n",
    "            row.append(compute_dot_product(row1, row2))\n",
    "        matrix.append(row)\n",
    "        row = []\n",
    "    len_of_vector = len(matrix)\n",
    "    return matrix"
   ],
   "id": "6f2241d5d02f377",
   "outputs": [],
   "execution_count": 61
  },
  {
   "metadata": {},
   "cell_type": "markdown",
   "source": "",
   "id": "8ea5bb8e102a727d"
  },
  {
   "metadata": {
    "ExecuteTime": {
     "end_time": "2024-07-21T09:13:32.427096Z",
     "start_time": "2024-07-21T09:13:32.415895Z"
    }
   },
   "cell_type": "code",
   "source": [
    "m1 = np.array([[0 , 1 , 2] , [2 , -3 , 1]])\n",
    "m2 = np.array([[1 , -3] ,[6 , 1] , [0 , -1]])\n",
    "print(m2.transpose())\n",
    "result = matrix_multi_matrix(m1, m2)\n",
    "print(result)"
   ],
   "id": "6a0ca13e39c820d2",
   "outputs": [
    {
     "name": "stdout",
     "output_type": "stream",
     "text": [
      "[[ 1  6  0]\n",
      " [-3  1 -1]]\n",
      "[[np.int64(6), np.int64(-1)], [np.int64(-16), np.int64(-10)]]\n"
     ]
    }
   ],
   "execution_count": 62
  },
  {
   "metadata": {
    "ExecuteTime": {
     "end_time": "2024-07-21T09:25:22.693091Z",
     "start_time": "2024-07-21T09:25:22.688631Z"
    }
   },
   "cell_type": "code",
   "source": [
    "def inverse_matrix(matrix):\n",
    "    inv_matrix = np.linalg.pinv(matrix)\n",
    "    return inv_matrix"
   ],
   "id": "f870c6df3d2b68c9",
   "outputs": [],
   "execution_count": 66
  },
  {
   "metadata": {},
   "cell_type": "code",
   "outputs": [],
   "execution_count": null,
   "source": [
    "def compute_eigenvalues_eigenvectors(matrix):\n",
    "    "
   ],
   "id": "5033dfb8bbd8613b"
  },
  {
   "metadata": {
    "ExecuteTime": {
     "end_time": "2024-07-21T10:05:24.357182Z",
     "start_time": "2024-07-21T10:05:22.415043Z"
    }
   },
   "cell_type": "code",
   "source": [
    "import numpy as np\n",
    "import cv2\n",
    "import matplotlib.pyplot as plt\n",
    "\n",
    "bg1_img = cv2.imread('NewBackground.jpg', 1)\n",
    "height, width, channels = bg1_img.shape\n",
    "\n",
    "bg2_img = cv2.imread('GreenBackground.png',1)\n",
    "bg2_img = cv2.resize(bg2_img,(width,height))\n",
    "\n",
    "ob_img = cv2.imread('Object.png', 1)\n",
    "ob_img = cv2.resize(ob_img,(width,height))\n",
    "plt.imshow(ob_img)"
   ],
   "id": "79e04245b2f9d88",
   "outputs": [
    {
     "ename": "AttributeError",
     "evalue": "module 'matplotlib' has no attribute 'rcParams'",
     "output_type": "error",
     "traceback": [
      "\u001B[1;31m---------------------------------------------------------------------------\u001B[0m",
      "\u001B[1;31mAttributeError\u001B[0m                            Traceback (most recent call last)",
      "Cell \u001B[1;32mIn[75], line 3\u001B[0m\n\u001B[0;32m      1\u001B[0m \u001B[38;5;28;01mimport\u001B[39;00m \u001B[38;5;21;01mnumpy\u001B[39;00m \u001B[38;5;28;01mas\u001B[39;00m \u001B[38;5;21;01mnp\u001B[39;00m\n\u001B[0;32m      2\u001B[0m \u001B[38;5;28;01mimport\u001B[39;00m \u001B[38;5;21;01mcv2\u001B[39;00m\n\u001B[1;32m----> 3\u001B[0m \u001B[38;5;28;01mimport\u001B[39;00m \u001B[38;5;21;01mmatplotlib\u001B[39;00m\u001B[38;5;21;01m.\u001B[39;00m\u001B[38;5;21;01mpyplot\u001B[39;00m \u001B[38;5;28;01mas\u001B[39;00m \u001B[38;5;21;01mplt\u001B[39;00m\n\u001B[0;32m      5\u001B[0m bg1_img \u001B[38;5;241m=\u001B[39m cv2\u001B[38;5;241m.\u001B[39mimread(\u001B[38;5;124m'\u001B[39m\u001B[38;5;124mNewBackground.jpg\u001B[39m\u001B[38;5;124m'\u001B[39m, \u001B[38;5;241m1\u001B[39m)\n\u001B[0;32m      6\u001B[0m height, width, channels \u001B[38;5;241m=\u001B[39m bg1_img\u001B[38;5;241m.\u001B[39mshape\n",
      "File \u001B[1;32m~\\PycharmProjects\\Tracy-is-learning-AI\\.venv\\Lib\\site-packages\\matplotlib\\pyplot.py:55\u001B[0m\n\u001B[0;32m     53\u001B[0m \u001B[38;5;28;01mfrom\u001B[39;00m \u001B[38;5;21;01mcycler\u001B[39;00m \u001B[38;5;28;01mimport\u001B[39;00m cycler  \u001B[38;5;66;03m# noqa: F401\u001B[39;00m\n\u001B[0;32m     54\u001B[0m \u001B[38;5;28;01mimport\u001B[39;00m \u001B[38;5;21;01mmatplotlib\u001B[39;00m\n\u001B[1;32m---> 55\u001B[0m \u001B[38;5;28;01mimport\u001B[39;00m \u001B[38;5;21;01mmatplotlib\u001B[39;00m\u001B[38;5;21;01m.\u001B[39;00m\u001B[38;5;21;01mcolorbar\u001B[39;00m\n\u001B[0;32m     56\u001B[0m \u001B[38;5;28;01mimport\u001B[39;00m \u001B[38;5;21;01mmatplotlib\u001B[39;00m\u001B[38;5;21;01m.\u001B[39;00m\u001B[38;5;21;01mimage\u001B[39;00m\n\u001B[0;32m     57\u001B[0m \u001B[38;5;28;01mfrom\u001B[39;00m \u001B[38;5;21;01mmatplotlib\u001B[39;00m \u001B[38;5;28;01mimport\u001B[39;00m _api\n",
      "File \u001B[1;32m~\\PycharmProjects\\Tracy-is-learning-AI\\.venv\\Lib\\site-packages\\matplotlib\\colorbar.py:19\u001B[0m\n\u001B[0;32m     16\u001B[0m \u001B[38;5;28;01mimport\u001B[39;00m \u001B[38;5;21;01mnumpy\u001B[39;00m \u001B[38;5;28;01mas\u001B[39;00m \u001B[38;5;21;01mnp\u001B[39;00m\n\u001B[0;32m     18\u001B[0m \u001B[38;5;28;01mimport\u001B[39;00m \u001B[38;5;21;01mmatplotlib\u001B[39;00m \u001B[38;5;28;01mas\u001B[39;00m \u001B[38;5;21;01mmpl\u001B[39;00m\n\u001B[1;32m---> 19\u001B[0m \u001B[38;5;28;01mfrom\u001B[39;00m \u001B[38;5;21;01mmatplotlib\u001B[39;00m \u001B[38;5;28;01mimport\u001B[39;00m _api, cbook, collections, cm, colors, contour, ticker\n\u001B[0;32m     20\u001B[0m \u001B[38;5;28;01mimport\u001B[39;00m \u001B[38;5;21;01mmatplotlib\u001B[39;00m\u001B[38;5;21;01m.\u001B[39;00m\u001B[38;5;21;01martist\u001B[39;00m \u001B[38;5;28;01mas\u001B[39;00m \u001B[38;5;21;01mmartist\u001B[39;00m\n\u001B[0;32m     21\u001B[0m \u001B[38;5;28;01mimport\u001B[39;00m \u001B[38;5;21;01mmatplotlib\u001B[39;00m\u001B[38;5;21;01m.\u001B[39;00m\u001B[38;5;21;01mpatches\u001B[39;00m \u001B[38;5;28;01mas\u001B[39;00m \u001B[38;5;21;01mmpatches\u001B[39;00m\n",
      "File \u001B[1;32m~\\PycharmProjects\\Tracy-is-learning-AI\\.venv\\Lib\\site-packages\\matplotlib\\collections.py:20\u001B[0m\n\u001B[0;32m     17\u001B[0m \u001B[38;5;28;01mimport\u001B[39;00m \u001B[38;5;21;01mnumpy\u001B[39;00m \u001B[38;5;28;01mas\u001B[39;00m \u001B[38;5;21;01mnp\u001B[39;00m\n\u001B[0;32m     19\u001B[0m \u001B[38;5;28;01mimport\u001B[39;00m \u001B[38;5;21;01mmatplotlib\u001B[39;00m \u001B[38;5;28;01mas\u001B[39;00m \u001B[38;5;21;01mmpl\u001B[39;00m\n\u001B[1;32m---> 20\u001B[0m \u001B[38;5;28;01mfrom\u001B[39;00m \u001B[38;5;21;01m.\u001B[39;00m \u001B[38;5;28;01mimport\u001B[39;00m (_api, _path, artist, cbook, cm, colors \u001B[38;5;28;01mas\u001B[39;00m mcolors, _docstring,\n\u001B[0;32m     21\u001B[0m                hatch \u001B[38;5;28;01mas\u001B[39;00m mhatch, lines \u001B[38;5;28;01mas\u001B[39;00m mlines, path \u001B[38;5;28;01mas\u001B[39;00m mpath, transforms)\n\u001B[0;32m     22\u001B[0m \u001B[38;5;28;01mfrom\u001B[39;00m \u001B[38;5;21;01m.\u001B[39;00m\u001B[38;5;21;01m_enums\u001B[39;00m \u001B[38;5;28;01mimport\u001B[39;00m JoinStyle, CapStyle\n\u001B[0;32m     25\u001B[0m \u001B[38;5;66;03m# \"color\" is excluded; it is a compound setter, and its docstring differs\u001B[39;00m\n\u001B[0;32m     26\u001B[0m \u001B[38;5;66;03m# in LineCollection.\u001B[39;00m\n",
      "File \u001B[1;32m~\\PycharmProjects\\Tracy-is-learning-AI\\.venv\\Lib\\site-packages\\matplotlib\\lines.py:17\u001B[0m\n\u001B[0;32m     14\u001B[0m \u001B[38;5;28;01mfrom\u001B[39;00m \u001B[38;5;21;01m.\u001B[39;00m\u001B[38;5;21;01martist\u001B[39;00m \u001B[38;5;28;01mimport\u001B[39;00m Artist, allow_rasterization\n\u001B[0;32m     15\u001B[0m \u001B[38;5;28;01mfrom\u001B[39;00m \u001B[38;5;21;01m.\u001B[39;00m\u001B[38;5;21;01mcbook\u001B[39;00m \u001B[38;5;28;01mimport\u001B[39;00m (\n\u001B[0;32m     16\u001B[0m     _to_unmasked_float_array, ls_mapper, ls_mapper_r, STEP_LOOKUP_MAP)\n\u001B[1;32m---> 17\u001B[0m \u001B[38;5;28;01mfrom\u001B[39;00m \u001B[38;5;21;01m.\u001B[39;00m\u001B[38;5;21;01mmarkers\u001B[39;00m \u001B[38;5;28;01mimport\u001B[39;00m MarkerStyle\n\u001B[0;32m     18\u001B[0m \u001B[38;5;28;01mfrom\u001B[39;00m \u001B[38;5;21;01m.\u001B[39;00m\u001B[38;5;21;01mpath\u001B[39;00m \u001B[38;5;28;01mimport\u001B[39;00m Path\n\u001B[0;32m     19\u001B[0m \u001B[38;5;28;01mfrom\u001B[39;00m \u001B[38;5;21;01m.\u001B[39;00m\u001B[38;5;21;01mtransforms\u001B[39;00m \u001B[38;5;28;01mimport\u001B[39;00m Bbox, BboxTransformTo, TransformedPath\n",
      "File \u001B[1;32m~\\PycharmProjects\\Tracy-is-learning-AI\\.venv\\Lib\\site-packages\\matplotlib\\markers.py:147\u001B[0m\n\u001B[0;32m    142\u001B[0m \u001B[38;5;66;03m# special-purpose marker identifiers:\u001B[39;00m\n\u001B[0;32m    143\u001B[0m (TICKLEFT, TICKRIGHT, TICKUP, TICKDOWN,\n\u001B[0;32m    144\u001B[0m  CARETLEFT, CARETRIGHT, CARETUP, CARETDOWN,\n\u001B[0;32m    145\u001B[0m  CARETLEFTBASE, CARETRIGHTBASE, CARETUPBASE, CARETDOWNBASE) \u001B[38;5;241m=\u001B[39m \u001B[38;5;28mrange\u001B[39m(\u001B[38;5;241m12\u001B[39m)\n\u001B[1;32m--> 147\u001B[0m _empty_path \u001B[38;5;241m=\u001B[39m \u001B[43mPath\u001B[49m\u001B[43m(\u001B[49m\u001B[43mnp\u001B[49m\u001B[38;5;241;43m.\u001B[39;49m\u001B[43mempty\u001B[49m\u001B[43m(\u001B[49m\u001B[43m(\u001B[49m\u001B[38;5;241;43m0\u001B[39;49m\u001B[43m,\u001B[49m\u001B[43m \u001B[49m\u001B[38;5;241;43m2\u001B[39;49m\u001B[43m)\u001B[49m\u001B[43m)\u001B[49m\u001B[43m)\u001B[49m\n\u001B[0;32m    150\u001B[0m \u001B[38;5;28;01mclass\u001B[39;00m \u001B[38;5;21;01mMarkerStyle\u001B[39;00m:\n\u001B[0;32m    151\u001B[0m \u001B[38;5;250m    \u001B[39m\u001B[38;5;124;03m\"\"\"\u001B[39;00m\n\u001B[0;32m    152\u001B[0m \u001B[38;5;124;03m    A class representing marker types.\u001B[39;00m\n\u001B[0;32m    153\u001B[0m \n\u001B[1;32m   (...)\u001B[0m\n\u001B[0;32m    164\u001B[0m \u001B[38;5;124;03m        The supported fillstyles.\u001B[39;00m\n\u001B[0;32m    165\u001B[0m \u001B[38;5;124;03m    \"\"\"\u001B[39;00m\n",
      "File \u001B[1;32m~\\PycharmProjects\\Tracy-is-learning-AI\\.venv\\Lib\\site-packages\\matplotlib\\path.py:152\u001B[0m, in \u001B[0;36mPath.__init__\u001B[1;34m(self, vertices, codes, _interpolation_steps, closed, readonly)\u001B[0m\n\u001B[0;32m    150\u001B[0m \u001B[38;5;28mself\u001B[39m\u001B[38;5;241m.\u001B[39m_codes \u001B[38;5;241m=\u001B[39m codes\n\u001B[0;32m    151\u001B[0m \u001B[38;5;28mself\u001B[39m\u001B[38;5;241m.\u001B[39m_interpolation_steps \u001B[38;5;241m=\u001B[39m _interpolation_steps\n\u001B[1;32m--> 152\u001B[0m \u001B[38;5;28;43mself\u001B[39;49m\u001B[38;5;241;43m.\u001B[39;49m\u001B[43m_update_values\u001B[49m\u001B[43m(\u001B[49m\u001B[43m)\u001B[49m\n\u001B[0;32m    154\u001B[0m \u001B[38;5;28;01mif\u001B[39;00m readonly:\n\u001B[0;32m    155\u001B[0m     \u001B[38;5;28mself\u001B[39m\u001B[38;5;241m.\u001B[39m_vertices\u001B[38;5;241m.\u001B[39mflags\u001B[38;5;241m.\u001B[39mwriteable \u001B[38;5;241m=\u001B[39m \u001B[38;5;28;01mFalse\u001B[39;00m\n",
      "File \u001B[1;32m~\\PycharmProjects\\Tracy-is-learning-AI\\.venv\\Lib\\site-packages\\matplotlib\\path.py:203\u001B[0m, in \u001B[0;36mPath._update_values\u001B[1;34m(self)\u001B[0m\n\u001B[0;32m    202\u001B[0m \u001B[38;5;28;01mdef\u001B[39;00m \u001B[38;5;21m_update_values\u001B[39m(\u001B[38;5;28mself\u001B[39m):\n\u001B[1;32m--> 203\u001B[0m     \u001B[38;5;28mself\u001B[39m\u001B[38;5;241m.\u001B[39m_simplify_threshold \u001B[38;5;241m=\u001B[39m \u001B[43mmpl\u001B[49m\u001B[38;5;241;43m.\u001B[39;49m\u001B[43mrcParams\u001B[49m[\u001B[38;5;124m'\u001B[39m\u001B[38;5;124mpath.simplify_threshold\u001B[39m\u001B[38;5;124m'\u001B[39m]\n\u001B[0;32m    204\u001B[0m     \u001B[38;5;28mself\u001B[39m\u001B[38;5;241m.\u001B[39m_should_simplify \u001B[38;5;241m=\u001B[39m (\n\u001B[0;32m    205\u001B[0m         \u001B[38;5;28mself\u001B[39m\u001B[38;5;241m.\u001B[39m_simplify_threshold \u001B[38;5;241m>\u001B[39m \u001B[38;5;241m0\u001B[39m \u001B[38;5;129;01mand\u001B[39;00m\n\u001B[0;32m    206\u001B[0m         mpl\u001B[38;5;241m.\u001B[39mrcParams[\u001B[38;5;124m'\u001B[39m\u001B[38;5;124mpath.simplify\u001B[39m\u001B[38;5;124m'\u001B[39m] \u001B[38;5;129;01mand\u001B[39;00m\n\u001B[0;32m    207\u001B[0m         \u001B[38;5;28mlen\u001B[39m(\u001B[38;5;28mself\u001B[39m\u001B[38;5;241m.\u001B[39m_vertices) \u001B[38;5;241m>\u001B[39m\u001B[38;5;241m=\u001B[39m \u001B[38;5;241m128\u001B[39m \u001B[38;5;129;01mand\u001B[39;00m\n\u001B[0;32m    208\u001B[0m         (\u001B[38;5;28mself\u001B[39m\u001B[38;5;241m.\u001B[39m_codes \u001B[38;5;129;01mis\u001B[39;00m \u001B[38;5;28;01mNone\u001B[39;00m \u001B[38;5;129;01mor\u001B[39;00m np\u001B[38;5;241m.\u001B[39mall(\u001B[38;5;28mself\u001B[39m\u001B[38;5;241m.\u001B[39m_codes \u001B[38;5;241m<\u001B[39m\u001B[38;5;241m=\u001B[39m Path\u001B[38;5;241m.\u001B[39mLINETO))\n\u001B[0;32m    209\u001B[0m     )\n",
      "File \u001B[1;32m~\\PycharmProjects\\Tracy-is-learning-AI\\.venv\\Lib\\site-packages\\matplotlib\\_api\\__init__.py:217\u001B[0m, in \u001B[0;36mcaching_module_getattr.<locals>.__getattr__\u001B[1;34m(name)\u001B[0m\n\u001B[0;32m    215\u001B[0m \u001B[38;5;28;01mif\u001B[39;00m name \u001B[38;5;129;01min\u001B[39;00m props:\n\u001B[0;32m    216\u001B[0m     \u001B[38;5;28;01mreturn\u001B[39;00m props[name]\u001B[38;5;241m.\u001B[39m\u001B[38;5;21m__get__\u001B[39m(instance)\n\u001B[1;32m--> 217\u001B[0m \u001B[38;5;28;01mraise\u001B[39;00m \u001B[38;5;167;01mAttributeError\u001B[39;00m(\n\u001B[0;32m    218\u001B[0m     \u001B[38;5;124mf\u001B[39m\u001B[38;5;124m\"\u001B[39m\u001B[38;5;124mmodule \u001B[39m\u001B[38;5;132;01m{\u001B[39;00m\u001B[38;5;28mcls\u001B[39m\u001B[38;5;241m.\u001B[39m\u001B[38;5;18m__module__\u001B[39m\u001B[38;5;132;01m!r}\u001B[39;00m\u001B[38;5;124m has no attribute \u001B[39m\u001B[38;5;132;01m{\u001B[39;00mname\u001B[38;5;132;01m!r}\u001B[39;00m\u001B[38;5;124m\"\u001B[39m)\n",
      "\u001B[1;31mAttributeError\u001B[0m: module 'matplotlib' has no attribute 'rcParams'"
     ]
    }
   ],
   "execution_count": 75
  },
  {
   "metadata": {},
   "cell_type": "code",
   "outputs": [],
   "execution_count": null,
   "source": "",
   "id": "16cfb1f23ddd2ac5"
  }
 ],
 "metadata": {
  "kernelspec": {
   "display_name": "Python 3",
   "language": "python",
   "name": "python3"
  },
  "language_info": {
   "codemirror_mode": {
    "name": "ipython",
    "version": 2
   },
   "file_extension": ".py",
   "mimetype": "text/x-python",
   "name": "python",
   "nbconvert_exporter": "python",
   "pygments_lexer": "ipython2",
   "version": "2.7.6"
  }
 },
 "nbformat": 4,
 "nbformat_minor": 5
}
